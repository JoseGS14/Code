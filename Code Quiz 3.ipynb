{
 "cells": [
  {
   "cell_type": "code",
   "execution_count": null,
   "metadata": {},
   "outputs": [],
   "source": [
    "a=int(input(\"Introduce the number of datas to X:\"))\n",
    "b=a\n",
    "X_sumatory=0\n",
    "Y_sumatory=0\n",
    "X_datas=[]\n",
    "Y_datas=[]\n",
    "X_square_sumatory=0\n",
    "XY_sumatory=0\n",
    "X_sumatory_square=0\n",
    "for i in range(0,a):\n",
    "    c =int(input('Value of X:'))\n",
    "    d = int(input('Value of Y:'))\n",
    "    X_datas.append(c)\n",
    "    Y_datas.append(d)\n",
    "    X_sumatory=X_sumatory+c\n",
    "    Y_sumatory=Y_sumatory+d\n",
    "    multiplicacionxy=c*d\n",
    "    XY_sumatory=XY_sumatory+multiplicacionxy\n",
    "    X_square_sumatory=X_square_sumatory+(c**2)\n",
    "    X_sumatory_square=(X_sumatory)**2\n",
    "    b=b+1"
   ]
  },
  {
   "cell_type": "code",
   "execution_count": null,
   "metadata": {},
   "outputs": [],
   "source": [
    "print(f'x={X_datas}')"
   ]
  },
  {
   "cell_type": "code",
   "execution_count": null,
   "metadata": {},
   "outputs": [],
   "source": [
    "print(f'y={Y_datas}')"
   ]
  },
  {
   "cell_type": "code",
   "execution_count": null,
   "metadata": {},
   "outputs": [],
   "source": [
    "print(f'The addition of values of X is:{X_sumatory}') "
   ]
  },
  {
   "cell_type": "code",
   "execution_count": null,
   "metadata": {},
   "outputs": [],
   "source": [
    "print(f'The addition of values of Y is:{Y_sumatory}')"
   ]
  },
  {
   "cell_type": "code",
   "execution_count": null,
   "metadata": {},
   "outputs": [],
   "source": [
    "print(f'The addition of the product between X and Y is:{XY_sumatory}')"
   ]
  },
  {
   "cell_type": "code",
   "execution_count": null,
   "metadata": {},
   "outputs": [],
   "source": [
    "print(f'The addition of values of X to square is:{X_square_sumatory}')"
   ]
  },
  {
   "cell_type": "code",
   "execution_count": null,
   "metadata": {},
   "outputs": [],
   "source": [
    "print(f'The addition of the values of x and then the result to square is:{X_sumatory_square}')"
   ]
  },
  {
   "cell_type": "code",
   "execution_count": null,
   "metadata": {},
   "outputs": [],
   "source": [
    "b1=((a*XY_sumatory)-(X_sumatory*Y_sumatory))/((a*X_square_sumatory)-X_sumatory_square)\n",
    "print(f'The value of b1 is:{b1}')\n",
    "b0=(Y_sumatory-(b1*X_sumatory))/a\n",
    "print(f'The value of b0 is:{b0}')\n",
    "print(f'The ecuation is: y={b0}+({b1}x)')"
   ]
  },
  {
   "cell_type": "code",
   "execution_count": null,
   "metadata": {},
   "outputs": [],
   "source": []
  }
 ],
 "metadata": {
  "kernelspec": {
   "display_name": "Python 3",
   "language": "python",
   "name": "python3"
  },
  "language_info": {
   "codemirror_mode": {
    "name": "ipython",
    "version": 3
   },
   "file_extension": ".py",
   "mimetype": "text/x-python",
   "name": "python",
   "nbconvert_exporter": "python",
   "pygments_lexer": "ipython3",
   "version": "3.7.3"
  }
 },
 "nbformat": 4,
 "nbformat_minor": 2
}
